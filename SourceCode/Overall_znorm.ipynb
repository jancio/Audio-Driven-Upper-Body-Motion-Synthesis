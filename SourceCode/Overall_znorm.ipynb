{
 "cells": [
  {
   "cell_type": "code",
   "execution_count": 1,
   "metadata": {},
   "outputs": [
    {
     "name": "stdout",
     "output_type": "stream",
     "text": [
      "AF_MFCC13\n",
      "AF_logFB26\n",
      "AF_logFB52\n",
      "AF_logFB78\n",
      "DONE\n"
     ]
    }
   ],
   "source": [
    "#####################################################################################\n",
    "# Audio-driven upper-body motion synthesis on a humanoid robot\n",
    "# Computer Science Tripos Part III Project\n",
    "# Jan Ondras (jo356@cam.ac.uk), Trinity College, University of Cambridge\n",
    "# 2017/18\n",
    "#####################################################################################\n",
    "# Calculate z-normalisation parameters (mean, std) for audio features over the whole dataset. \n",
    "# To be used for prediction on new subjects in ONLINE synthesis mode \n",
    "# Same for both: subject-independent and subject-dependent models.\n",
    "# DONE\n",
    "#######################################################################################################\n",
    "from sklearn.preprocessing import StandardScaler\n",
    "import numpy as np\n",
    "\n",
    "TE_folder = 'TrainingExamples_16kHz'\n",
    "AF_types = [\n",
    "    'AF_MFCC13',\n",
    "    'AF_logFB26', \n",
    "    'AF_logFB52',\n",
    "    'AF_logFB78'\n",
    "]\n",
    "\n",
    "for AF_type in AF_types:\n",
    "    print AF_type\n",
    "    AF = np.load('./../Dataset/'+TE_folder+'/te_'+AF_type+'.npz')[AF_type]\n",
    "    ###########\n",
    "    # Z-normalise each audio feature (fit on whole dataset)\n",
    "    scaler = StandardScaler()\n",
    "    scaler.fit(AF)\n",
    "    mean = scaler.mean_\n",
    "    std = np.sqrt(scaler.var_)\n",
    "    #print scaler.transform(AF)[0] # check\n",
    "    #print (AF[0] - mean) / std\n",
    "    \n",
    "    # Save\n",
    "    np.savez('./../Dataset/Overall_znorm/znorm_' + AF_type + '.npz', mean=mean, std=std)\n",
    "\n",
    "print \"DONE\""
   ]
  },
  {
   "cell_type": "code",
   "execution_count": null,
   "metadata": {},
   "outputs": [],
   "source": []
  }
 ],
 "metadata": {
  "kernelspec": {
   "display_name": "Python 2",
   "language": "python",
   "name": "python2"
  },
  "language_info": {
   "codemirror_mode": {
    "name": "ipython",
    "version": 2
   },
   "file_extension": ".py",
   "mimetype": "text/x-python",
   "name": "python",
   "nbconvert_exporter": "python",
   "pygments_lexer": "ipython2",
   "version": "2.7.12"
  }
 },
 "nbformat": 4,
 "nbformat_minor": 2
}
